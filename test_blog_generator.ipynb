{
 "cells": [
  {
   "cell_type": "markdown",
   "metadata": {},
   "source": [
    "# Blog Generator Test Notebook\n",
    "\n",
    "This notebook tests the functionality of the BlogGenerator class without importing it directly."
   ]
  },
  {
   "cell_type": "code",
   "execution_count": 1,
   "metadata": {},
   "outputs": [],
   "source": [
    "%reset -f\n",
    "import os\n",
    "import re\n",
    "import random\n",
    "from datetime import datetime\n",
    "from dotenv import load_dotenv\n",
    "from groq import Groq\n",
    "from google_images_search import GoogleImagesSearch"
   ]
  },
  {
   "cell_type": "markdown",
   "metadata": {},
   "source": [
    "## 1. Setup Environment and Paths"
   ]
  },
  {
   "cell_type": "code",
   "execution_count": 2,
   "metadata": {},
   "outputs": [],
   "source": [
    "# Load environment variables\n",
    "load_dotenv()\n",
    "groq_api_key = os.getenv('GROQ_API_KEY')\n",
    "google_api_key = os.getenv('GOOGLE_API_KEY')\n",
    "google_cx = os.getenv('GOOGLE_CX')\n",
    "\n",
    "# Setup paths\n",
    "website = \"1\"  # \"1\" for moroccoheritage, \"2\" for gobitcode\n",
    "if website == \"1\":\n",
    "    blog_path = \"/home/adil/repo/morocco-heritage/data/blog/\"\n",
    "    image_path = \"/home/adil/repo/morocco-heritage/public/static/images\"\n",
    "else:\n",
    "    blog_path = \"/home/adil/repo/gobitcode/data/blog/\"\n",
    "    image_path = \"/home/adil/repo/gobitcode/public/static/images\""
   ]
  },
  {
   "cell_type": "markdown",
   "metadata": {},
   "source": [
    "## 2. Helper Functions"
   ]
  },
  {
   "cell_type": "code",
   "execution_count": 60,
   "metadata": {},
   "outputs": [],
   "source": [
    "def generate_slug(title):\n",
    "    \"\"\"Generate a URL-friendly slug from a title\"\"\"\n",
    "    slug = title.lower()\n",
    "    slug = re.sub(r'[^a-z0-9]+', '-', slug)\n",
    "    return slug.strip('-')\n",
    "\n",
    "def download_images(keyword, path, limit=1):\n",
    "    \"\"\"Download images from Google Images\"\"\"\n",
    "    gis = GoogleImagesSearch(google_api_key, google_cx)\n",
    "    \n",
    "    search_params = {\n",
    "        'q': keyword,\n",
    "        'num': limit,\n",
    "        'safe': 'off',\n",
    "    }\n",
    "\n",
    "    gis.search(search_params=search_params)\n",
    "    image = gis.results()[0]\n",
    "    image.download(path)\n",
    "    \n",
    "    # Rename the downloaded image\n",
    "    old_image_name = os.path.basename(image.path)\n",
    "    filename, extension = os.path.splitext(old_image_name)\n",
    "    new_image_name = f\"{generate_slug(filename)}{extension}\"\n",
    "    os.rename(image.path, os.path.join(path, new_image_name))\n",
    "    \n",
    "    return new_image_name"
   ]
  },
  {
   "cell_type": "markdown",
   "metadata": {},
   "source": [
    "## 3. Blog Generation"
   ]
  },
  {
   "cell_type": "code",
   "execution_count": null,
   "metadata": {},
   "outputs": [
    {
     "name": "stdout",
     "output_type": "stream",
     "text": [
      "Starting blog generation for topic: Python Programming Basics\n",
      "1. Generating blog content...\n",
      "✓ Blog content generated\n",
      "length: 3311\n"
     ]
    }
   ],
   "source": [
    "from utils import anycode_prompt, user_prompt\n",
    "def generate_blog(seo_keywords):\n",
    "    \"\"\"Generate blog content using Groq API\"\"\"\n",
    "    client = Groq(api_key=groq_api_key)\n",
    "    \n",
    "    completion = client.chat.completions.create(\n",
    "        model=\"llama3-70b-8192\",\n",
    "        messages=[\n",
    "            {\n",
    "                \"role\": \"system\",\n",
    "                \"content\": anycode_prompt\n",
    "            },\n",
    "            {\n",
    "                \"role\": \"user\",\n",
    "                \"content\": user_prompt(seo_keywords)\n",
    "            }\n",
    "        ],\n",
    "        temperature=1,\n",
    "        max_tokens=1024*8,\n",
    "        max_completion_tokens=1024*8,\n",
    "        top_p=1,\n",
    "        stream=False,\n",
    "        stop=None,\n",
    "    )\n",
    "\n",
    "    return completion.choices[0].message.content\n",
    "\n",
    "# Test parameters\n",
    "seo_keywords = \"Python Programming Basics\"\n",
    "system_prompt = \"You are a technical writer creating blog posts about programming and technology.\"\n",
    "\n",
    "print(f\"Starting blog generation for topic: {seo_keywords}\")\n",
    "\n",
    "# Generate blog content\n",
    "print(\"1. Generating blog content...\")\n",
    "mdx_blog = generate_blog(seo_keywords)\n",
    "print(\"✓ Blog content generated\")\n",
    "print(\"length:\", len(mdx_blog))\n",
    "# llama 3311 # "
   ]
  },
  {
   "cell_type": "markdown",
   "metadata": {},
   "source": [
    "## open ai genearate "
   ]
  },
  {
   "cell_type": "code",
   "execution_count": null,
   "metadata": {},
   "outputs": [
    {
     "name": "stdout",
     "output_type": "stream",
     "text": [
      "Starting blog generation for topic: Python Programming Basics\n",
      "1. Generating blog content...\n",
      "✓ Blog content generated\n",
      "```\n",
      "---\n",
      "title: Python Programming Basics: Your Gat\n",
      "length: 3809\n"
     ]
    }
   ],
   "source": [
    "from openai import OpenAI\n",
    "from utils import anycode_prompt, user_prompt\n",
    "\n",
    "\n",
    "\n",
    "\n",
    "def generate_blog_openai(seo_keywords):\n",
    "    \"\"\"Generate blog content using OpenAI API\"\"\"\n",
    "    \n",
    "    client = OpenAI(api_key=\"\")\n",
    "    completion  = client.responses.create(\n",
    "  model=\"gpt-4.1\",\n",
    "  input=[\n",
    "    {\n",
    "      \"role\": \"system\",\n",
    "      \"content\": [\n",
    "        {\n",
    "          \"type\": \"input_text\",\n",
    "          \"text\": anycode_prompt\n",
    "        }\n",
    "      ]\n",
    "    },\n",
    "    {\n",
    "      \"role\": \"user\",\n",
    "      \"content\": [\n",
    "        {\n",
    "          \"type\": \"input_text\",\n",
    "          \"text\": user_prompt(seo_keywords)\n",
    "        }\n",
    "      ]\n",
    "    }\n",
    "  ],\n",
    "  text={\n",
    "    \"format\": {\n",
    "      \"type\": \"text\"\n",
    "    }\n",
    "  },\n",
    "  reasoning={},\n",
    "  tools=[],\n",
    "  temperature=1,\n",
    "  max_output_tokens=2**63 -1,\n",
    "  top_p=1,\n",
    "  stream=False,\n",
    ")\n",
    "    return completion.output_text\n",
    "\n",
    "\n",
    "\n",
    "# Test parameters\n",
    "seo_keywords = \"Python Programming Basics\"\n",
    "system_prompt = \"You are a technical writer creating blog posts about programming and technology.\"\n",
    "\n",
    "\n",
    "print(f\"Starting blog generation for topic: {seo_keywords}\")\n",
    "\n",
    "# Generate blog content\n",
    "print(\"1. Generating blog content...\")\n",
    "mdx_blog = generate_blog_openai(seo_keywords)\n",
    "print(\"✓ Blog content generated\")\n",
    "print(mdx_blog[:50])\n",
    "print(\"length:\", len(mdx_blog))\n"
   ]
  },
  {
   "cell_type": "markdown",
   "metadata": {},
   "source": [
    "## 4. Blog Processing"
   ]
  },
  {
   "cell_type": "code",
   "execution_count": 62,
   "metadata": {},
   "outputs": [],
   "source": [
    "def process_images(mdx_blog, image_folder, seo_keywords):\n",
    "    \"\"\"Process and download images for the blog\"\"\"\n",
    "    img_tag_regex = r'<img[^>]*alt=\\\"([^\\\"]*)\\\"[^>]*>'\n",
    "    matches = re.findall(img_tag_regex, mdx_blog)\n",
    "    \n",
    "    for match in matches:\n",
    "        image_name = download_images(\n",
    "            f\"{seo_keywords} {match}\",\n",
    "            os.path.join(image_path, image_folder)\n",
    "        )\n",
    "        new_src = f'/static/images/{image_folder}/{image_name}'\n",
    "        mdx_blog = re.sub(\n",
    "            rf'(<img[^>]*src=\\\")[^\\\"]*(\\\"[^>]*alt=\\\"{re.escape(match)}\\\"[^>]*>)',\n",
    "            rf'\\1{new_src}\\2',\n",
    "            mdx_blog\n",
    "        )\n",
    "    \n",
    "    return mdx_blog\n",
    "\n",
    "def correct_title(mdx_blog):\n",
    "    \"\"\"Remove colon from the title line\"\"\"\n",
    "    title_regex = r'^(title:.*?):(.*)$'\n",
    "    return re.sub(title_regex, r'\\1\\2', mdx_blog, flags=re.MULTILINE)\n",
    "\n",
    "def correct_date(mdx_blog):\n",
    "    \"\"\"Update the date to today's date\"\"\"\n",
    "    today = datetime.now().strftime('%Y-%m-%d')\n",
    "    date_regex = r'^(date:)\\s*[\"\\']?(\\d{4}-\\d{2}-\\d{2})[\"\\']?$'\n",
    "    return re.sub(date_regex, rf\"\\1 '{today}'\", mdx_blog, count=1, flags=re.MULTILINE)"
   ]
  },
  {
   "cell_type": "code",
   "execution_count": 71,
   "metadata": {},
   "outputs": [
    {
     "name": "stdout",
     "output_type": "stream",
     "text": [
      " Mastering the Fundamentals  A B  eginner s Guide to Python Programming Basics\n",
      " Learn the s esiisential concepts and building blocks of Python programming, including variables, data types, operators, control structures, and functions, to get started with coding in Python.\n",
      "\n",
      "---\n",
      "title: Mastering the Fundamentals  A B  eginner s Guide to Python Programming Basics\n",
      "date: '2025-04-13'\n",
      "tags: ['Python', 'Programming Basics', 'Beginners Guide', 'Coding']\n",
      "draft: false\n",
      "summary: Learn the s esiisential concepts and building blocks of Python programming, including variables, data types, operators, control structures, and functions, to get started with coding in Python.\n",
      "---\n",
      "\n",
      "## Introduction\n",
      "\n",
      "Python is a popular and versatile programming language that has become a staple in the world of computer science. With its simplicity, readability, and large community of developers, Python is an excellent language for beginners to learn. In this article, we'll delve into the fundamental concepts of Python programming, covering variables, data types, operators, control structures, and functions. By the end of this guide, you'll have a solid grasp of the basics and be ready to start building your own Python projects.\n",
      "\n",
      "<img src=\"/static/images/python-logo.png\" alt=\"Python logo\" width=\"200\" height=\"200\" />\n",
      "\n",
      "<TOCInline toc={props.toc} exclude=\"Introduction\" />\n",
      "\n",
      "## Variables and Data Types\n"
     ]
    }
   ],
   "source": [
    "test_blog = \"\"\"\n",
    "---\n",
    "title: Mastering the Fundamentals: A B:\"eginner's Guide to Python Programming Basics\n",
    "date: '2025-04-13'\n",
    "tags: ['Python', 'Programming Basics', 'Beginners Guide', 'Coding']\n",
    "draft: false\n",
    "summary: Learn the's esiisential concepts and building blocks of Python programming, including variables, data types, operators, control structures, and functions, to get started with coding in Python.\n",
    "---\n",
    "\n",
    "## Introduction\n",
    "\n",
    "Python is a popular and versatile programming language that has become a staple in the world of computer science. With its simplicity, readability, and large community of developers, Python is an excellent language for beginners to learn. In this article, we'll delve into the fundamental concepts of Python programming, covering variables, data types, operators, control structures, and functions. By the end of this guide, you'll have a solid grasp of the basics and be ready to start building your own Python projects.\n",
    "\n",
    "<img src=\"/static/images/python-logo.png\" alt=\"Python logo\" width=\"200\" height=\"200\" />\n",
    "\n",
    "<TOCInline toc={props.toc} exclude=\"Introduction\" />\n",
    "\n",
    "## Variables and Data Types\n",
    "\"\"\"\n",
    "\n",
    "\n",
    "\n",
    "def correct_title(mdx_blog):\n",
    "    \"\"\"Remove ':', \"'\", and '\"' when they appear after 'title:' or 'summary:'\"\"\"\n",
    "    lines = mdx_blog.splitlines()\n",
    "    new_lines = []\n",
    "    for line in lines:\n",
    "        if line.startswith(\"title:\"):\n",
    "            prefix, rest = line[:6], line[6:]\n",
    "            rest = rest.replace(\":\", \" \").replace(\"'\", \" \").replace('\"', \" \")\n",
    "            line = prefix + rest\n",
    "            print(rest)\n",
    "        elif line.startswith(\"summary:\"):\n",
    "            prefix, rest = line[:8], line[8:]\n",
    "            rest = rest.replace(\":\", \" \").replace(\"'\", \" \").replace('\"', \" \")\n",
    "            line = prefix + rest\n",
    "            print(rest)\n",
    "        new_lines.append(line)\n",
    "    return \"\\n\".join(new_lines)\n",
    "\n",
    "\n",
    "\n",
    "\n",
    "print(correct_title(test_blog))"
   ]
  },
  {
   "cell_type": "markdown",
   "metadata": {},
   "source": [
    "## 5. Test the Complete Process"
   ]
  },
  {
   "cell_type": "code",
   "execution_count": null,
   "metadata": {},
   "outputs": [],
   "source": [
    "\n",
    "# Generate slugs and folder\n",
    "print(\"\\n2. Processing blog metadata...\")\n",
    "title_match = re.search(r'^title:\\s*(.*)$', mdx_blog, re.MULTILINE)\n",
    "title = title_match.group(1)\n",
    "slug = generate_slug(title)\n",
    "random_suffix = random.randint(1000, 9999)\n",
    "image_folder = f\"{generate_slug(seo_keywords)}-{random_suffix}\"\n",
    "print(f\"✓ Title: {title}\")\n",
    "print(f\"✓ Generated slug: {slug}\")\n",
    "print(f\"✓ Image folder: {image_folder}\")\n",
    "\n"
   ]
  },
  {
   "cell_type": "code",
   "execution_count": null,
   "metadata": {},
   "outputs": [],
   "source": [
    "# Process the blog\n",
    "print(\"\\n3. Processing blog content...\")\n",
    "mdx_blog = correct_title(mdx_blog)\n",
    "mdx_blog = correct_date(mdx_blog)\n",
    "mdx_blog = process_images(mdx_blog, image_folder, seo_keywords)\n",
    "print(\"✓ Blog content processed\")\n",
    "\n"
   ]
  },
  {
   "cell_type": "code",
   "execution_count": null,
   "metadata": {},
   "outputs": [],
   "source": [
    "# Save the blog\n",
    "print(\"\\n4. Saving blog file...\")\n",
    "filename = f\"{slug}.mdx\"\n",
    "blog_save_path = os.path.join(blog_path, filename)\n",
    "with open(blog_save_path, 'w') as file:\n",
    "    file.write(mdx_blog)\n",
    "print(f\"✓ Blog saved at: {blog_save_path}\")\n",
    "\n",
    "print(\"\\nBlog generation completed successfully!\")"
   ]
  },
  {
   "cell_type": "markdown",
   "metadata": {},
   "source": [
    "## 6. Display Generated Content"
   ]
  },
  {
   "cell_type": "code",
   "execution_count": null,
   "metadata": {},
   "outputs": [],
   "source": [
    "# Display the generated blog content\n",
    "print(mdx_blog)"
   ]
  },
  {
   "cell_type": "markdown",
   "metadata": {},
   "source": [
    "# Post on pinterest"
   ]
  },
  {
   "cell_type": "code",
   "execution_count": 6,
   "metadata": {},
   "outputs": [
    {
     "name": "stdout",
     "output_type": "stream",
     "text": [
      "{'items': [{'id': '1136244249676952980', 'privacy': 'PUBLIC', 'collaborator_count': 0, 'pin_count': 15, 'media': {'pin_thumbnail_urls': ['https://i.pinimg.com/150x150/a3/ad/7a/a3ad7a11c207618401d1f2647ee0b5fe.jpg', 'https://i.pinimg.com/150x150/a6/32/68/a6326809f867974fdae4df33fc3e5c56.jpg', 'https://i.pinimg.com/150x150/41/91/94/419194fe85d942ac804533b6d1cd4dc4.jpg', 'https://i.pinimg.com/150x150/9e/6b/c9/9e6bc9be188ad54f268738a10a78d72a.jpg', 'https://i.pinimg.com/150x150/dc/0c/89/dc0c891dcbdc09cbe6154471b354ec69.jpg'], 'image_cover_url': 'https://i.pinimg.com/400x300/5b/76/52/5b7652f0f0243ef1775479d8ac367d7c.jpg'}, 'description': '', 'follower_count': 0, 'board_pins_modified_at': '2025-03-18T07:41:03.933000', 'name': 'Social', 'created_at': '2024-11-29T01:09:41', 'owner': {'username': 'anycodeit'}}], 'bookmark': None}\n"
     ]
    }
   ],
   "source": [
    "\n",
    "import requests\n",
    "\n",
    "headers = {\n",
    "    'Authorization': 'Bearer ',\n",
    "    'Content-Type': 'application/json',\n",
    "    'Accept': 'application/json',\n",
    "}\n",
    "\n",
    "response = requests.get('https://api.pinterest.com/v5/boards', headers=headers)\n",
    "\n",
    "if response.status_code == 200:\n",
    "    boards = response.json()\n",
    "    print(boards)\n",
    "else:\n",
    "    print(f\"Failed to retrieve boards. Status code: {response.status_code}\")\n",
    "    print(\"Response:\", response.json())\n",
    "        "
   ]
  },
  {
   "cell_type": "code",
   "execution_count": null,
   "metadata": {},
   "outputs": [
    {
     "data": {
      "text/plain": [
       "('1136244180989407602', 'My Local Image Pin')"
      ]
     },
     "execution_count": 2,
     "metadata": {},
     "output_type": "execute_result"
    }
   ],
   "source": [
    "from dotenv import load_dotenv\n",
    "from pinterest.client import PinterestSDKClient\n",
    "from pinterest.organic.pins import Pin\n",
    "import os\n",
    "import base64\n",
    "import requests\n",
    "\n",
    "def create_pinterest_pin(image_path, title, description, board_id):\n",
    "    \"\"\"\n",
    "    Create a pin on Pinterest board using a local image file\n",
    "    \n",
    "    Args:\n",
    "        image_path (str): Local path to the image file\n",
    "        title (str): Title of the pin\n",
    "        description (str): Description of the pin\n",
    "        board_id (str): ID of the Pinterest board to pin to\n",
    "        \n",
    "    Returns:\n",
    "        tuple: Pin ID and Pin Title if successful, (None, None) if failed\n",
    "    \"\"\"\n",
    "    try:\n",
    "        # Load environment variables\n",
    "        load_dotenv()\n",
    "        \n",
    "        # Get client credentials\n",
    "        client_id = os.getenv('PINTEREST_CLIENT_ID')\n",
    "        client_secret = os.getenv('PINTEREST_CLIENT_SECRET')\n",
    "\n",
    "        # Encode credentials for Basic Authentication\n",
    "        credentials = f\"{client_id}:{client_secret}\"\n",
    "        encoded_credentials = base64.b64encode(credentials.encode()).decode()\n",
    "\n",
    "        # Set up headers and data for token request\n",
    "        headers = {\n",
    "            'Authorization': f'Basic {encoded_credentials}',\n",
    "            'Content-Type': 'application/x-www-form-urlencoded'\n",
    "        }\n",
    "        \n",
    "        data = {\n",
    "            'grant_type': 'client_credentials',\n",
    "            'scope': 'pins:read,pins:write,boards:read,boards:write'\n",
    "        }\n",
    "\n",
    "        # Get access token\n",
    "        response = requests.post('https://api.pinterest.com/v5/oauth/token', headers=headers, data=data)\n",
    "        \n",
    "        if response.status_code != 200:\n",
    "            print(f\"Failed to generate token. Status code: {response.status_code}\")\n",
    "            return None, None\n",
    "\n",
    "        token_data = response.json()\n",
    "        access_token = token_data['access_token']\n",
    "\n",
    "        # Initialize Pinterest SDK Client\n",
    "        PinterestSDKClient(access_token=access_token)\n",
    "\n",
    "        # Read and encode image\n",
    "        with open(image_path, \"rb\") as img_file:\n",
    "            encoded_string = base64.b64encode(img_file.read()).decode()\n",
    "\n",
    "        # Create pin\n",
    "        pin_create = Pin.create(\n",
    "            board_id=board_id,\n",
    "            title=title,\n",
    "            description=description,\n",
    "            link=\"https://example.com\",  # Replace with your link\n",
    "            media_source={\n",
    "                \"source_type\": \"image_base64\",\n",
    "                \"content_type\": \"image/jpeg\",  # adjust to image/png if needed\n",
    "                \"data\": encoded_string\n",
    "            }\n",
    "        )\n",
    "        \n",
    "        return pin_create.id, pin_create.title\n",
    "\n",
    "    except Exception as e:\n",
    "        print(f\"Error creating pin: {str(e)}\")\n",
    "        return None, None\n",
    "\n",
    "# Example usage\n",
    "create_pinterest_pin(\n",
    "    image_path='./format/big.jpg',\n",
    "    title='My Local Image Pin',\n",
    "    description='Pin from local file system',\n",
    "    board_id='1136244249676952980'\n",
    ")\n"
   ]
  }
 ],
 "metadata": {
  "kernelspec": {
   "display_name": "autoblog",
   "language": "python",
   "name": "python3"
  },
  "language_info": {
   "codemirror_mode": {
    "name": "ipython",
    "version": 3
   },
   "file_extension": ".py",
   "mimetype": "text/x-python",
   "name": "python",
   "nbconvert_exporter": "python",
   "pygments_lexer": "ipython3",
   "version": "3.8.20"
  }
 },
 "nbformat": 4,
 "nbformat_minor": 4
}
