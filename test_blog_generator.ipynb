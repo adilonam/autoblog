{
 "cells": [
  {
   "cell_type": "markdown",
   "metadata": {},
   "source": [
    "# Testing BlogGenerator Class\n",
    "\n",
    "This notebook will test each step of the BlogGenerator class to ensure proper functionality."
   ]
  },
  {
   "cell_type": "code",
   "execution_count": 1,
   "metadata": {},
   "outputs": [],
   "source": [
    "%reset -f\n",
    "# Import required libraries\n",
    "import os\n",
    "from datetime import datetime\n",
    "from dotenv import load_dotenv\n",
    "from blog_generator import BlogGenerator\n",
    "from ignore import topics, website\n",
    "import re"
   ]
  },
  {
   "cell_type": "markdown",
   "metadata": {},
   "source": [
    "## 1. Initialize BlogGenerator"
   ]
  },
  {
   "cell_type": "code",
   "execution_count": 2,
   "metadata": {},
   "outputs": [
    {
     "name": "stdout",
     "output_type": "stream",
     "text": [
      "Website configuration: 2\n",
      "Blog path: /home/adil/repo/gobitcode/data/blog/\n",
      "Image path: /home/adil/repo/gobitcode/public/static/images\n"
     ]
    }
   ],
   "source": [
    "# Initialize the generator\n",
    "generator = BlogGenerator(website=website)\n",
    "print(f\"Website configuration: {website}\")\n",
    "print(f\"Blog path: {generator.blog_path}\")\n",
    "print(f\"Image path: {generator.image_path}\")"
   ]
  },
  {
   "cell_type": "markdown",
   "metadata": {},
   "source": [
    "## 2. Test Slug Generation"
   ]
  },
  {
   "cell_type": "code",
   "execution_count": 3,
   "metadata": {},
   "outputs": [
    {
     "name": "stdout",
     "output_type": "stream",
     "text": [
      "Original title: Running Llama 3 Locally: A Guide to Local LLM Deployment\n",
      "Generated slug: running-llama-3-locally-a-guide-to-local-llm-deployment\n"
     ]
    }
   ],
   "source": [
    "# Test slug generation\n",
    "test_title = \"Running Llama 3 Locally: A Guide to Local LLM Deployment\"\n",
    "slug = generator.generate_slug(test_title)\n",
    "print(f\"Original title: {test_title}\")\n",
    "print(f\"Generated slug: {slug}\")"
   ]
  },
  {
   "cell_type": "markdown",
   "metadata": {},
   "source": [
    "## 3. Test Blog Content Generation"
   ]
  },
  {
   "cell_type": "code",
   "execution_count": 8,
   "metadata": {},
   "outputs": [
    {
     "name": "stdout",
     "output_type": "stream",
     "text": [
      "Generating blog for topic: What is BERT and how is it Used in AI?\n",
      "\n",
      "Generated blog content preview:\n",
      "---\n",
      "title: Demystifying BERT: The AI Breakthrough That's Revolutionizing Natural Language Processing\n",
      "date: '2025-04-13'\n",
      "tags: ['BERT', 'NLP', 'AI', 'Deep Learning', 'Language Models']\n",
      "draft: false\n",
      "summary: Explore the inner workings of BERT, the AI model that's transforming natural language processing, and discover its vast applications in AI-powered systems.\n",
      "---\n",
      "\n",
      "## Introduction\n",
      "\n",
      "The world of artificial intelligence (AI) has witnessed a significant leap forward with the advent of BERT (Bidirect...\n"
     ]
    }
   ],
   "source": [
    "# Test blog content generation\n",
    "test_topic = topics[0]  # Using first topic\n",
    "print(f\"Generating blog for topic: {test_topic}\")\n",
    "mdx_blog = generator.generate_blog(test_topic)\n",
    "print(\"\\nGenerated blog content preview:\")\n",
    "print(mdx_blog[:500] + \"...\")  # Show first 500 characters"
   ]
  },
  {
   "cell_type": "markdown",
   "metadata": {},
   "source": [
    "## 4. Test Image Downloading"
   ]
  },
  {
   "cell_type": "code",
   "execution_count": null,
   "metadata": {},
   "outputs": [],
   "source": [
    "# Test image downloading\n",
    "test_keyword = \"llama 3 local deployment\"\n",
    "test_path = os.path.join(generator.image_path, \"test\")\n",
    "os.makedirs(test_path, exist_ok=True)\n",
    "\n",
    "print(f\"Downloading image for keyword: {test_keyword}\")\n",
    "image_name = generator.download_images(test_keyword, test_path)\n",
    "print(f\"Downloaded image: {image_name}\")\n",
    "print(f\"Image saved at: {os.path.join(test_path, image_name)}\")"
   ]
  },
  {
   "cell_type": "markdown",
   "metadata": {},
   "source": [
    "## 5. Test Image Processing in Blog"
   ]
  },
  {
   "cell_type": "code",
   "execution_count": 6,
   "metadata": {},
   "outputs": [
    {
     "ename": "NameError",
     "evalue": "name 'test_topic' is not defined",
     "output_type": "error",
     "traceback": [
      "\u001b[0;31m---------------------------------------------------------------------------\u001b[0m",
      "\u001b[0;31mNameError\u001b[0m                                 Traceback (most recent call last)",
      "Cell \u001b[0;32mIn[6], line 2\u001b[0m\n\u001b[1;32m      1\u001b[0m \u001b[38;5;66;03m# Test image processing in blog content\u001b[39;00m\n\u001b[0;32m----> 2\u001b[0m parent_folder \u001b[38;5;241m=\u001b[39m generator\u001b[38;5;241m.\u001b[39mgenerate_slug(\u001b[43mtest_topic\u001b[49m)\n\u001b[1;32m      3\u001b[0m processed_blog \u001b[38;5;241m=\u001b[39m generator\u001b[38;5;241m.\u001b[39mprocess_images(mdx_blog, parent_folder)\n\u001b[1;32m      4\u001b[0m \u001b[38;5;28mprint\u001b[39m(\u001b[38;5;124m\"\u001b[39m\u001b[38;5;130;01m\\n\u001b[39;00m\u001b[38;5;124mProcessed blog content preview:\u001b[39m\u001b[38;5;124m\"\u001b[39m)\n",
      "\u001b[0;31mNameError\u001b[0m: name 'test_topic' is not defined"
     ]
    }
   ],
   "source": [
    "# Test image processing in blog content\n",
    "parent_folder = generator.generate_slug(test_topic)\n",
    "processed_blog = generator.process_images(mdx_blog, parent_folder)\n",
    "print(\"\\nProcessed blog content preview:\")\n",
    "print(processed_blog[:500] + \"...\")"
   ]
  },
  {
   "cell_type": "markdown",
   "metadata": {},
   "source": [
    "## 6. Test Title Correction"
   ]
  },
  {
   "cell_type": "code",
   "execution_count": 9,
   "metadata": {},
   "outputs": [
    {
     "name": "stdout",
     "output_type": "stream",
     "text": [
      "\n",
      "Corrected blog content preview:\n",
      "---\n",
      "title: Demystifying BERT The AI Breakthrough That's Revolutionizing Natural Language Processing\n",
      "date: '2025-04-13'\n",
      "tags: ['BERT', 'NLP', 'AI', 'Deep Learning', 'Language Models']\n",
      "draft: false\n",
      "summary: Explore the inner workings of BERT, the AI model that's transforming natural language processing, and discover its vast applications in AI-powered systems.\n",
      "---\n",
      "\n",
      "## Introduction\n",
      "\n",
      "The world of artificial intelligence (AI) has witnessed a significant leap forward with the advent of BERT (Bidirecti...\n"
     ]
    }
   ],
   "source": [
    "# Test title correction\n",
    "corrected_blog = generator.correct_title(mdx_blog)\n",
    "print(\"\\nCorrected blog content preview:\")\n",
    "print(corrected_blog[:500] + \"...\")"
   ]
  },
  {
   "cell_type": "markdown",
   "metadata": {},
   "source": [
    "## 7. Test Date Correction"
   ]
  },
  {
   "cell_type": "code",
   "execution_count": 10,
   "metadata": {},
   "outputs": [
    {
     "name": "stdout",
     "output_type": "stream",
     "text": [
      "Testing date correction...\n",
      "Today's date: 2025-04-16\n",
      "Original date in blog: 2025-04-13\n",
      "Updated date in blog: 2025-04-16\n",
      "Date correction successful: True\n",
      "\n",
      "Date corrected blog preview:\n",
      "---\n",
      "title: Demystifying BERT The AI Breakthrough That's Revolutionizing Natural Language Processing\n",
      "date: '2025-04-16'\n",
      "tags: ['BERT', 'NLP', 'AI', 'Deep Learning', 'Language Models']\n",
      "draft: false\n",
      "summary: Explore the inner workings of BERT, the AI model that's transforming natural language processing, and discover its vast applications in AI-powered systems.\n",
      "---\n",
      "\n",
      "## Introduction\n",
      "\n",
      "The world of artificial intelligence (AI) has witnessed a significant leap forward with the advent of BERT (Bidirecti...\n"
     ]
    }
   ],
   "source": [
    "# Test date correction\n",
    "print(\"Testing date correction...\")\n",
    "print(f\"Today's date: {datetime.now().strftime('%Y-%m-%d')}\")\n",
    "\n",
    "# Extract original date from blog\n",
    "date_match = re.search(r\"date: '(\\d{4}-\\d{2}-\\d{2})'\", corrected_blog)\n",
    "if date_match:\n",
    "    original_date = date_match.group(1)\n",
    "    print(f\"Original date in blog: {original_date}\")\n",
    "\n",
    "# Apply date correction\n",
    "date_corrected_blog = generator.correct_date(corrected_blog)\n",
    "\n",
    "# Verify date was updated\n",
    "new_date_match = re.search(r\"date: '(\\d{4}-\\d{2}-\\d{2})'\", date_corrected_blog)\n",
    "if new_date_match:\n",
    "    new_date = new_date_match.group(1)\n",
    "    print(f\"Updated date in blog: {new_date}\")\n",
    "    print(f\"Date correction successful: {new_date == datetime.now().strftime('%Y-%m-%d')}\")\n",
    "\n",
    "print(\"\\nDate corrected blog preview:\")\n",
    "print(date_corrected_blog[:500] + \"...\")"
   ]
  },
  {
   "cell_type": "markdown",
   "metadata": {},
   "source": [
    "## 8. Test Complete Blog Generation"
   ]
  },
  {
   "cell_type": "code",
   "execution_count": null,
   "metadata": {},
   "outputs": [],
   "source": [
    "# Test complete blog generation\n",
    "print(f\"Generating complete blog for topic: {test_topic}\")\n",
    "blog_path = generator.generate(test_topic)\n",
    "print(f\"\\nBlog generated at: {blog_path}\")\n",
    "\n",
    "# Verify the generated file\n",
    "if os.path.exists(blog_path):\n",
    "    print(\"\\nFile verification:\")\n",
    "    print(f\"File exists: {os.path.exists(blog_path)}\")\n",
    "    print(f\"File size: {os.path.getsize(blog_path)} bytes\")\n",
    "    \n",
    "    # Verify date in final file\n",
    "    with open(blog_path, 'r') as file:\n",
    "        content = file.read()\n",
    "        final_date_match = re.search(r\"date: '(\\d{4}-\\d{2}-\\d{2})'\", content)\n",
    "        if final_date_match:\n",
    "            final_date = final_date_match.group(1)\n",
    "            print(f\"Final date in file: {final_date}\")\n",
    "            print(f\"Date is correct: {final_date == datetime.now().strftime('%Y-%m-%d')}\")\n",
    "else:\n",
    "    print(\"\\nError: Blog file was not created\")"
   ]
  },
  {
   "cell_type": "markdown",
   "metadata": {},
   "source": [
    "## 9. Test Multiple Blog Generation"
   ]
  },
  {
   "cell_type": "code",
   "execution_count": null,
   "metadata": {},
   "outputs": [],
   "source": [
    "# Test generating multiple blogs\n",
    "print(\"Generating blogs for first 3 topics:\")\n",
    "for i, topic in enumerate(topics[:3]):\n",
    "    print(f\"\\nGenerating blog {i+1} for topic: {topic}\")\n",
    "    blog_path = generator.generate(topic)\n",
    "    print(f\"Blog generated at: {blog_path}\")\n",
    "    \n",
    "    # Verify date in each generated file\n",
    "    with open(blog_path, 'r') as file:\n",
    "        content = file.read()\n",
    "        date_match = re.search(r\"date: '(\\d{4}-\\d{2}-\\d{2})'\", content)\n",
    "        if date_match:\n",
    "            date = date_match.group(1)\n",
    "            print(f\"Date in blog {i+1}: {date}\")\n",
    "            print(f\"Date is correct: {date == datetime.now().strftime('%Y-%m-%d')}\")"
   ]
  },
  {
   "cell_type": "markdown",
   "metadata": {},
   "source": [
    "## 10. Cleanup Test Files"
   ]
  },
  {
   "cell_type": "code",
   "execution_count": null,
   "metadata": {},
   "outputs": [],
   "source": [
    "# Cleanup test files\n",
    "import shutil\n",
    "\n",
    "# Remove test image directory\n",
    "test_path = os.path.join(generator.image_path, \"test\")\n",
    "if os.path.exists(test_path):\n",
    "    shutil.rmtree(test_path)\n",
    "    print(f\"Removed test directory: {test_path}\")\n",
    "\n",
    "# Remove test blog files\n",
    "for topic in topics[:3]:\n",
    "    slug = generator.generate_slug(topic)\n",
    "    blog_file = os.path.join(generator.blog_path, f\"{slug}.mdx\")\n",
    "    if os.path.exists(blog_file):\n",
    "        os.remove(blog_file)\n",
    "        print(f\"Removed test blog: {blog_file}\")"
   ]
  }
 ],
 "metadata": {
  "kernelspec": {
   "display_name": "autoblog",
   "language": "python",
   "name": "python3"
  },
  "language_info": {
   "codemirror_mode": {
    "name": "ipython",
    "version": 3
   },
   "file_extension": ".py",
   "mimetype": "text/x-python",
   "name": "python",
   "nbconvert_exporter": "python",
   "pygments_lexer": "ipython3",
   "version": "3.8.20"
  }
 },
 "nbformat": 4,
 "nbformat_minor": 4
}
